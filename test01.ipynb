{
 "cells": [
  {
   "cell_type": "code",
   "execution_count": 1,
   "metadata": {},
   "outputs": [],
   "source": [
    "from example01 import Language01\n",
    "from tools.ast import get_printer\n",
    "L = Language01()"
   ]
  },
  {
   "attachments": {},
   "cell_type": "markdown",
   "metadata": {},
   "source": [
    "# Lenguaje 01\n",
    "### Gramatica de Expresiones Aritmeticas\n",
    "-----------------"
   ]
  },
  {
   "attachments": {},
   "cell_type": "markdown",
   "metadata": {},
   "source": [
    "## Ejemplo 1\n",
    "\n",
    "```\n",
    "4 + 6 * (89-54) / (4 - 10)\n",
    "```"
   ]
  },
  {
   "cell_type": "code",
   "execution_count": 3,
   "metadata": {},
   "outputs": [
    {
     "ename": "SyntaxError",
     "evalue": "EOL while scanning string literal (974617981.py, line 1)",
     "output_type": "error",
     "traceback": [
      "\u001b[0;36m  File \u001b[0;32m\"/tmp/ipykernel_20028/974617981.py\"\u001b[0;36m, line \u001b[0;32m1\u001b[0m\n\u001b[0;31m    t01 = '4 + 6 * (89-54) /\u001b[0m\n\u001b[0m                             ^\u001b[0m\n\u001b[0;31mSyntaxError\u001b[0m\u001b[0;31m:\u001b[0m EOL while scanning string literal\n"
     ]
    }
   ],
   "source": [
    "t01 = '''4 + 6 * (89-54) / \n",
    "\n",
    "    (4 - 10)'''\n",
    "r01 = L.Evaluate(t01)\n",
    "p01 = 4 + 6 * (89-54) / (4 - 10)\n",
    "print(r01)\n",
    "print(p01)\n",
    "print(r01 == p01)"
   ]
  },
  {
   "attachments": {},
   "cell_type": "markdown",
   "metadata": {},
   "source": [
    "## Ejemplo 2\n",
    "\n",
    "```\n",
    "4+6*(89-54)/(4-10)\n",
    "```"
   ]
  },
  {
   "cell_type": "code",
   "execution_count": null,
   "metadata": {},
   "outputs": [],
   "source": [
    "t02 = '4+6*(89-54)/(4-10)'\n",
    "r02 = L.Evaluate(t02)\n",
    "p02 = 4+6*(89-54)/(4-10)\n",
    "print(r02)\n",
    "print(p02)\n",
    "print(r02 == p02)"
   ]
  },
  {
   "attachments": {},
   "cell_type": "markdown",
   "metadata": {},
   "source": [
    "## Ejemplo 3\n",
    "\n",
    "```\n",
    "4+6*(89-54)/4-10\n",
    "```"
   ]
  },
  {
   "cell_type": "code",
   "execution_count": null,
   "metadata": {},
   "outputs": [],
   "source": [
    "t03 = '4+6*(89-54)/4-10'\n",
    "r03 = L.Evaluate(t03)\n",
    "p03 = 4+6*(89-54)/4-10\n",
    "print(r03)\n",
    "print(p03)\n",
    "print(r03 == p03)\n",
    "ast03 = L.Build_AST(t03, verbose=True)\n",
    "L.Print(ast03)"
   ]
  },
  {
   "cell_type": "code",
   "execution_count": null,
   "metadata": {},
   "outputs": [],
   "source": []
  }
 ],
 "metadata": {
  "kernelspec": {
   "display_name": "base",
   "language": "python",
   "name": "python3"
  },
  "language_info": {
   "codemirror_mode": {
    "name": "ipython",
    "version": 3
   },
   "file_extension": ".py",
   "mimetype": "text/x-python",
   "name": "python",
   "nbconvert_exporter": "python",
   "pygments_lexer": "ipython3",
   "version": "3.9.13"
  },
  "orig_nbformat": 4,
  "vscode": {
   "interpreter": {
    "hash": "288c8a09feb0156c3b910e82c10291a04dbef4d926da44d00475bdfebeb1a22e"
   }
  }
 },
 "nbformat": 4,
 "nbformat_minor": 2
}
